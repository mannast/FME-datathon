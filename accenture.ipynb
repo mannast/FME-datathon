{
 "cells": [
  {
   "cell_type": "markdown",
   "metadata": {},
   "source": [
    "## Accenture - Supply Chain\n"
   ]
  },
  {
   "cell_type": "code",
   "execution_count": 73,
   "metadata": {},
   "outputs": [],
   "source": [
    "# Packaging management\n",
    "import numpy as np\n",
    "import pandas as pd\n",
    "import csv \n",
    "from sklearn.linear_model import LinearRegression as lm\n",
    "import statsmodels"
   ]
  },
  {
   "cell_type": "code",
   "execution_count": 112,
   "metadata": {},
   "outputs": [],
   "source": [
    "## Distance matrix preparation\n",
    "\n",
    "## Read raw data from csv files\n",
    "pd_cities_raw = pd.read_csv(\"datas/cities_data.csv\" ,sep=\";\")\n",
    "\n",
    "city_list_s = pd_cities_raw['city_from_name'].unique()\n",
    "city_list_d = pd_cities_raw['city_to_name'].unique()\n",
    "all_cities= list(set(city_list_s) | set(city_list_d))\n",
    "\n",
    "city_dict = {all_cities[i]:i for i in range(0,len(all_cities))}\n",
    "n_cities = len(all_cities)\n",
    "\n",
    "distance_mat = [[0]*n_cities]*n_cities\n",
    "\n",
    "\n",
    "for index, row in pd_cities_raw.iterrows():\n",
    "    s = city_dict[row[\"city_from_name\"]]\n",
    "    d = city_dict[row[\"city_to_name\"]]\n",
    "    distance = row[\"distance\"]\n",
    "    distance_mat[s][d] = distance"
   ]
  },
  {
   "cell_type": "code",
   "execution_count": 113,
   "metadata": {},
   "outputs": [],
   "source": [
    "## Product Matrix\n",
    "\n",
    "pd_products_raw = pd.read_csv(\"datas/product_attributes.csv\", sep=\",\")\n",
    "\n",
    "##dataframe quering example  !(return a string value)\n",
    "# pd_products_raw.loc[pd_products_raw[\"product_id\"]==1672707][\"material_handling\"].to_string(index=False)\n"
   ]
  },
  {
   "cell_type": "code",
   "execution_count": 116,
   "metadata": {},
   "outputs": [
    {
     "data": {
      "text/plain": [
       "['Helsinki',\n",
       " 'Warsaw',\n",
       " 'Marseille',\n",
       " 'Malmö',\n",
       " 'Valencia',\n",
       " 'Copenhagen',\n",
       " 'Berlin',\n",
       " 'Bremen',\n",
       " 'Bucharest',\n",
       " 'Rotterdam',\n",
       " 'Hanover',\n",
       " 'Bordeaux',\n",
       " 'Lisbon',\n",
       " 'Hamburg',\n",
       " 'Budapest',\n",
       " 'Rome',\n",
       " 'Paris',\n",
       " 'Amsterdam',\n",
       " 'Zaragoza',\n",
       " 'Cologne',\n",
       " 'Munich',\n",
       " 'Prague',\n",
       " 'Athens',\n",
       " 'Liege',\n",
       " 'Milan',\n",
       " 'Madrid',\n",
       " 'Porto',\n",
       " 'Vienna',\n",
       " 'Barcelona',\n",
       " 'Turin',\n",
       " 'Bratislava',\n",
       " 'Lille',\n",
       " 'Stockholm',\n",
       " 'Lyon',\n",
       " 'Naples',\n",
       " 'Venlo',\n",
       " 'Dusseldorf']"
      ]
     },
     "execution_count": 116,
     "metadata": {},
     "output_type": "execute_result"
    }
   ],
   "source": [
    "all_cities"
   ]
  },
  {
   "cell_type": "code",
   "execution_count": 156,
   "metadata": {},
   "outputs": [],
   "source": [
    "## Probability dictionary calculation\n",
    "pd_orders_raw=pd.read_csv(\"datas/orders.csv\",sep=\";\")\n",
    "\n",
    "pd_orders_raw.loc[pd_orders_raw[\"origin_port\"] == \"BCN\", \"origin_port\"] = \"Barcelona\"\n",
    "pd_orders_raw.loc[pd_orders_raw[\"origin_port\"] == \"ATHENAS\", \"origin_port\"] = \"Athens\"\n",
    "\n",
    "\n",
    "cities_origin = pd_orders_raw['origin_port'].unique()\n",
    "cities_hub = pd_orders_raw['logistic_hub'].unique()\n",
    "cities_customer =  pd_orders_raw['customer'].unique()\n",
    "pd_origin_count = pd_orders_raw.groupby(['origin_port', 'late_order']).size()\n",
    "pd_hub_count = pd_orders_raw.groupby(['logistic_hub', 'late_order']).size()\n",
    "pd_custormer_count = pd_orders_raw.groupby(['customer', 'late_order']).size()\n",
    "\n",
    "delay_rate_origin = {all_cities[i]:0 for i in range(0,len(all_cities))}\n",
    "delay_rate_hub = {all_cities[i]:0 for i in range(0,len(all_cities))}\n",
    "delay_rate_customer = {all_cities[i]:0 for i in range(0,len(all_cities))}\n",
    "\n",
    "\n"
   ]
  },
  {
   "cell_type": "code",
   "execution_count": 179,
   "metadata": {},
   "outputs": [
    {
     "name": "stdout",
     "output_type": "stream",
     "text": [
      "21556\n"
     ]
    }
   ],
   "source": [
    "d_origin_count = pd_orders_raw.groupby(['origin_port']).size()\n",
    "temp = d_origin_count.to_dict()\n",
    "temp\n",
    "print(temp[\"Barcelona\"])"
   ]
  },
  {
   "cell_type": "code",
   "execution_count": 163,
   "metadata": {},
   "outputs": [
    {
     "name": "stdout",
     "output_type": "stream",
     "text": [
      "<class 'str'>\n"
     ]
    },
    {
     "ename": "TypeError",
     "evalue": "bad operand type for unary +: 'str'",
     "output_type": "error",
     "traceback": [
      "\u001b[0;31m---------------------------------------------------------------------------\u001b[0m",
      "\u001b[0;31mTypeError\u001b[0m                                 Traceback (most recent call last)",
      "Cell \u001b[0;32mIn [163], line 4\u001b[0m\n\u001b[1;32m      2\u001b[0m \u001b[39mfor\u001b[39;00m item \u001b[39min\u001b[39;00m cities_origin:\n\u001b[1;32m      3\u001b[0m     \u001b[39mprint\u001b[39m(\u001b[39mtype\u001b[39m(item))\n\u001b[0;32m----> 4\u001b[0m     count_true \u001b[39m=\u001b[39m origin_count_dict[\u001b[39m\"\u001b[39m\u001b[39m(\u001b[39m\u001b[39m\"\u001b[39m\u001b[39m+\u001b[39mitem\u001b[39m+\u001b[39m \u001b[39m+\u001b[39;49m \u001b[39m\"\u001b[39;49m\u001b[39m,\u001b[39;49m\u001b[39m\"\u001b[39;49m \u001b[39m+\u001b[39m\u001b[39m\"\u001b[39m\u001b[39mTrue )\u001b[39m\u001b[39m\"\u001b[39m]\n\u001b[1;32m      5\u001b[0m     \u001b[39mprint\u001b[39m(count_true)\n",
      "\u001b[0;31mTypeError\u001b[0m: bad operand type for unary +: 'str'"
     ]
    }
   ],
   "source": [
    "origin_count_dict = pd_origin_count.to_dict()\n",
    "for item in cities_origin:\n",
    "    count_true = origin_count_dict\n",
    "    print(count_true)"
   ]
  },
  {
   "cell_type": "code",
   "execution_count": 168,
   "metadata": {},
   "outputs": [
    {
     "name": "stdout",
     "output_type": "stream",
     "text": [
      "Athens\n",
      "False\n",
      "Athens\n",
      "True\n",
      "Barcelona\n",
      "False\n",
      "Barcelona\n",
      "True\n",
      "Rotterdam\n",
      "False\n",
      "Rotterdam\n",
      "True\n"
     ]
    }
   ],
   "source": [
    "for key, values in origin_count_dict:\n",
    "    print(key)\n",
    "    print(values)"
   ]
  },
  {
   "cell_type": "code",
   "execution_count": null,
   "metadata": {},
   "outputs": [],
   "source": []
  },
  {
   "cell_type": "code",
   "execution_count": 149,
   "metadata": {},
   "outputs": [],
   "source": [
    "test= pd_origin_count.to_dict()"
   ]
  },
  {
   "cell_type": "code",
   "execution_count": 151,
   "metadata": {},
   "outputs": [
    {
     "data": {
      "text/plain": [
       "5825"
      ]
     },
     "execution_count": 151,
     "metadata": {},
     "output_type": "execute_result"
    }
   ],
   "source": [
    "test[('Barcelona',True)]"
   ]
  },
  {
   "cell_type": "code",
   "execution_count": 143,
   "metadata": {},
   "outputs": [
    {
     "ename": "KeyError",
     "evalue": "'origin_port'",
     "output_type": "error",
     "traceback": [
      "\u001b[0;31m---------------------------------------------------------------------------\u001b[0m",
      "\u001b[0;31mKeyError\u001b[0m                                  Traceback (most recent call last)",
      "File \u001b[0;32m/usr/local/lib/python3.10/site-packages/pandas/core/indexes/base.py:3803\u001b[0m, in \u001b[0;36mIndex.get_loc\u001b[0;34m(self, key, method, tolerance)\u001b[0m\n\u001b[1;32m   3802\u001b[0m \u001b[39mtry\u001b[39;00m:\n\u001b[0;32m-> 3803\u001b[0m     \u001b[39mreturn\u001b[39;00m \u001b[39mself\u001b[39;49m\u001b[39m.\u001b[39;49m_engine\u001b[39m.\u001b[39;49mget_loc(casted_key)\n\u001b[1;32m   3804\u001b[0m \u001b[39mexcept\u001b[39;00m \u001b[39mKeyError\u001b[39;00m \u001b[39mas\u001b[39;00m err:\n",
      "File \u001b[0;32m/usr/local/lib/python3.10/site-packages/pandas/_libs/index.pyx:138\u001b[0m, in \u001b[0;36mpandas._libs.index.IndexEngine.get_loc\u001b[0;34m()\u001b[0m\n",
      "File \u001b[0;32m/usr/local/lib/python3.10/site-packages/pandas/_libs/index.pyx:165\u001b[0m, in \u001b[0;36mpandas._libs.index.IndexEngine.get_loc\u001b[0;34m()\u001b[0m\n",
      "File \u001b[0;32mpandas/_libs/hashtable_class_helper.pxi:5745\u001b[0m, in \u001b[0;36mpandas._libs.hashtable.PyObjectHashTable.get_item\u001b[0;34m()\u001b[0m\n",
      "File \u001b[0;32mpandas/_libs/hashtable_class_helper.pxi:5753\u001b[0m, in \u001b[0;36mpandas._libs.hashtable.PyObjectHashTable.get_item\u001b[0;34m()\u001b[0m\n",
      "\u001b[0;31mKeyError\u001b[0m: 'origin_port'",
      "\nThe above exception was the direct cause of the following exception:\n",
      "\u001b[0;31mKeyError\u001b[0m                                  Traceback (most recent call last)",
      "Cell \u001b[0;32mIn [143], line 2\u001b[0m\n\u001b[1;32m      1\u001b[0m pd_origin_count\n\u001b[0;32m----> 2\u001b[0m \u001b[39mfor\u001b[39;00m city \u001b[39min\u001b[39;00m pd_origin_count[\u001b[39m\"\u001b[39;49m\u001b[39morigin_port\u001b[39;49m\u001b[39m\"\u001b[39;49m]:\n\u001b[1;32m      3\u001b[0m     \u001b[39mprint\u001b[39m(pd_origin_count\u001b[39m.\u001b[39mloc[pd_origin_count[\u001b[39m\"\u001b[39m\u001b[39morigin_port\u001b[39m\u001b[39m\"\u001b[39m]\u001b[39m==\u001b[39mcity])\n",
      "File \u001b[0;32m/usr/local/lib/python3.10/site-packages/pandas/core/series.py:981\u001b[0m, in \u001b[0;36mSeries.__getitem__\u001b[0;34m(self, key)\u001b[0m\n\u001b[1;32m    978\u001b[0m     \u001b[39mreturn\u001b[39;00m \u001b[39mself\u001b[39m\u001b[39m.\u001b[39m_values[key]\n\u001b[1;32m    980\u001b[0m \u001b[39melif\u001b[39;00m key_is_scalar:\n\u001b[0;32m--> 981\u001b[0m     \u001b[39mreturn\u001b[39;00m \u001b[39mself\u001b[39;49m\u001b[39m.\u001b[39;49m_get_value(key)\n\u001b[1;32m    983\u001b[0m \u001b[39mif\u001b[39;00m is_hashable(key):\n\u001b[1;32m    984\u001b[0m     \u001b[39m# Otherwise index.get_value will raise InvalidIndexError\u001b[39;00m\n\u001b[1;32m    985\u001b[0m     \u001b[39mtry\u001b[39;00m:\n\u001b[1;32m    986\u001b[0m         \u001b[39m# For labels that don't resolve as scalars like tuples and frozensets\u001b[39;00m\n",
      "File \u001b[0;32m/usr/local/lib/python3.10/site-packages/pandas/core/series.py:1089\u001b[0m, in \u001b[0;36mSeries._get_value\u001b[0;34m(self, label, takeable)\u001b[0m\n\u001b[1;32m   1086\u001b[0m     \u001b[39mreturn\u001b[39;00m \u001b[39mself\u001b[39m\u001b[39m.\u001b[39m_values[label]\n\u001b[1;32m   1088\u001b[0m \u001b[39m# Similar to Index.get_value, but we do not fall back to positional\u001b[39;00m\n\u001b[0;32m-> 1089\u001b[0m loc \u001b[39m=\u001b[39m \u001b[39mself\u001b[39;49m\u001b[39m.\u001b[39;49mindex\u001b[39m.\u001b[39;49mget_loc(label)\n\u001b[1;32m   1090\u001b[0m \u001b[39mreturn\u001b[39;00m \u001b[39mself\u001b[39m\u001b[39m.\u001b[39mindex\u001b[39m.\u001b[39m_get_values_for_loc(\u001b[39mself\u001b[39m, loc, label)\n",
      "File \u001b[0;32m/usr/local/lib/python3.10/site-packages/pandas/core/indexes/multi.py:2916\u001b[0m, in \u001b[0;36mMultiIndex.get_loc\u001b[0;34m(self, key, method)\u001b[0m\n\u001b[1;32m   2913\u001b[0m     \u001b[39mreturn\u001b[39;00m mask\n\u001b[1;32m   2915\u001b[0m \u001b[39mif\u001b[39;00m \u001b[39mnot\u001b[39;00m \u001b[39misinstance\u001b[39m(key, \u001b[39mtuple\u001b[39m):\n\u001b[0;32m-> 2916\u001b[0m     loc \u001b[39m=\u001b[39m \u001b[39mself\u001b[39;49m\u001b[39m.\u001b[39;49m_get_level_indexer(key, level\u001b[39m=\u001b[39;49m\u001b[39m0\u001b[39;49m)\n\u001b[1;32m   2917\u001b[0m     \u001b[39mreturn\u001b[39;00m _maybe_to_slice(loc)\n\u001b[1;32m   2919\u001b[0m keylen \u001b[39m=\u001b[39m \u001b[39mlen\u001b[39m(key)\n",
      "File \u001b[0;32m/usr/local/lib/python3.10/site-packages/pandas/core/indexes/multi.py:3263\u001b[0m, in \u001b[0;36mMultiIndex._get_level_indexer\u001b[0;34m(self, key, level, indexer)\u001b[0m\n\u001b[1;32m   3259\u001b[0m         \u001b[39mreturn\u001b[39;00m \u001b[39mslice\u001b[39m(i, j, step)\n\u001b[1;32m   3261\u001b[0m \u001b[39melse\u001b[39;00m:\n\u001b[0;32m-> 3263\u001b[0m     idx \u001b[39m=\u001b[39m \u001b[39mself\u001b[39;49m\u001b[39m.\u001b[39;49m_get_loc_single_level_index(level_index, key)\n\u001b[1;32m   3265\u001b[0m     \u001b[39mif\u001b[39;00m level \u001b[39m>\u001b[39m \u001b[39m0\u001b[39m \u001b[39mor\u001b[39;00m \u001b[39mself\u001b[39m\u001b[39m.\u001b[39m_lexsort_depth \u001b[39m==\u001b[39m \u001b[39m0\u001b[39m:\n\u001b[1;32m   3266\u001b[0m         \u001b[39m# Desired level is not sorted\u001b[39;00m\n\u001b[1;32m   3267\u001b[0m         \u001b[39mif\u001b[39;00m \u001b[39misinstance\u001b[39m(idx, \u001b[39mslice\u001b[39m):\n\u001b[1;32m   3268\u001b[0m             \u001b[39m# test_get_loc_partial_timestamp_multiindex\u001b[39;00m\n",
      "File \u001b[0;32m/usr/local/lib/python3.10/site-packages/pandas/core/indexes/multi.py:2849\u001b[0m, in \u001b[0;36mMultiIndex._get_loc_single_level_index\u001b[0;34m(self, level_index, key)\u001b[0m\n\u001b[1;32m   2847\u001b[0m     \u001b[39mreturn\u001b[39;00m \u001b[39m-\u001b[39m\u001b[39m1\u001b[39m\n\u001b[1;32m   2848\u001b[0m \u001b[39melse\u001b[39;00m:\n\u001b[0;32m-> 2849\u001b[0m     \u001b[39mreturn\u001b[39;00m level_index\u001b[39m.\u001b[39;49mget_loc(key)\n",
      "File \u001b[0;32m/usr/local/lib/python3.10/site-packages/pandas/core/indexes/base.py:3805\u001b[0m, in \u001b[0;36mIndex.get_loc\u001b[0;34m(self, key, method, tolerance)\u001b[0m\n\u001b[1;32m   3803\u001b[0m     \u001b[39mreturn\u001b[39;00m \u001b[39mself\u001b[39m\u001b[39m.\u001b[39m_engine\u001b[39m.\u001b[39mget_loc(casted_key)\n\u001b[1;32m   3804\u001b[0m \u001b[39mexcept\u001b[39;00m \u001b[39mKeyError\u001b[39;00m \u001b[39mas\u001b[39;00m err:\n\u001b[0;32m-> 3805\u001b[0m     \u001b[39mraise\u001b[39;00m \u001b[39mKeyError\u001b[39;00m(key) \u001b[39mfrom\u001b[39;00m \u001b[39merr\u001b[39;00m\n\u001b[1;32m   3806\u001b[0m \u001b[39mexcept\u001b[39;00m \u001b[39mTypeError\u001b[39;00m:\n\u001b[1;32m   3807\u001b[0m     \u001b[39m# If we have a listlike key, _check_indexing_error will raise\u001b[39;00m\n\u001b[1;32m   3808\u001b[0m     \u001b[39m#  InvalidIndexError. Otherwise we fall through and re-raise\u001b[39;00m\n\u001b[1;32m   3809\u001b[0m     \u001b[39m#  the TypeError.\u001b[39;00m\n\u001b[1;32m   3810\u001b[0m     \u001b[39mself\u001b[39m\u001b[39m.\u001b[39m_check_indexing_error(key)\n",
      "\u001b[0;31mKeyError\u001b[0m: 'origin_port'"
     ]
    }
   ],
   "source": [
    "pd_origin_count\n",
    "for city in pd_origin_count[\"origin_port\"]:\n",
    "    print(pd_origin_count.loc[pd_origin_count[\"origin_port\"]==city])"
   ]
  },
  {
   "cell_type": "code",
   "execution_count": 142,
   "metadata": {},
   "outputs": [
    {
     "data": {
      "text/plain": [
       "origin_port  late_order\n",
       "Athens       False         17229\n",
       "             True          10300\n",
       "Barcelona    False         15731\n",
       "             True           5825\n",
       "Rotterdam    False         54160\n",
       "             True          11031\n",
       "dtype: int64"
      ]
     },
     "execution_count": 142,
     "metadata": {},
     "output_type": "execute_result"
    }
   ],
   "source": [
    "pd_origin_count"
   ]
  },
  {
   "cell_type": "code",
   "execution_count": 130,
   "metadata": {},
   "outputs": [
    {
     "data": {
      "text/plain": [
       "logistic_hub  late_order\n",
       "Bratislava    False          3005\n",
       "              True           1486\n",
       "Dusseldorf    False         10217\n",
       "              True           2301\n",
       "Hamburg       False         17140\n",
       "              True           4340\n",
       "Liege         False          3612\n",
       "              True           1029\n",
       "Lille         False          6563\n",
       "              True           3685\n",
       "Rome          False          9251\n",
       "              True           3209\n",
       "Venlo         False         19259\n",
       "              True           4441\n",
       "Warsaw        False         12207\n",
       "              True           3596\n",
       "Zaragoza      False          5128\n",
       "              True           2758\n",
       "dtype: int64"
      ]
     },
     "execution_count": 130,
     "metadata": {},
     "output_type": "execute_result"
    }
   ],
   "source": [
    "pd_hub_count"
   ]
  },
  {
   "cell_type": "code",
   "execution_count": 131,
   "metadata": {},
   "outputs": [
    {
     "data": {
      "text/plain": [
       "customer    late_order\n",
       "Amsterdam   False         4354\n",
       "            True          1059\n",
       "Athens      False         2309\n",
       "            True           834\n",
       "Barcelona   False         3395\n",
       "            True           991\n",
       "Berlin      False         7896\n",
       "            True          1923\n",
       "Bordeaux    False         1103\n",
       "            True           518\n",
       "Bremen      False         1328\n",
       "            True           284\n",
       "Bucharest   False         2589\n",
       "            True           763\n",
       "Budapest    False         2152\n",
       "            True           568\n",
       "Cologne     False         3189\n",
       "            True           715\n",
       "Copenhagen  False         3576\n",
       "            True          1301\n",
       "Hanover     False         1828\n",
       "            True           422\n",
       "Helsinki    False         1077\n",
       "            True           511\n",
       "Lisbon      False         1420\n",
       "            True           690\n",
       "Lyon        False         3283\n",
       "            True          1580\n",
       "Madrid      False         7009\n",
       "            True          2222\n",
       "Malmö       False         1601\n",
       "            True           562\n",
       "Marseille   False         2583\n",
       "            True          1259\n",
       "Milan       False         7699\n",
       "            True          1971\n",
       "Munich      False         4873\n",
       "            True          1174\n",
       "Naples      False         2103\n",
       "            True           577\n",
       "Paris       False         4577\n",
       "            True          2029\n",
       "Porto       False          759\n",
       "            True           353\n",
       "Prague      False         1282\n",
       "            True           338\n",
       "Rome        False         2990\n",
       "            True           870\n",
       "Stockholm   False         3534\n",
       "            True          1392\n",
       "Turin       False         1721\n",
       "            True           422\n",
       "Valencia    False         1248\n",
       "            True           390\n",
       "Vienna      False         5642\n",
       "            True          1438\n",
       "dtype: int64"
      ]
     },
     "execution_count": 131,
     "metadata": {},
     "output_type": "execute_result"
    }
   ],
   "source": [
    "pd_custormer_count"
   ]
  },
  {
   "cell_type": "code",
   "execution_count": 110,
   "metadata": {},
   "outputs": [
    {
     "data": {
      "text/plain": [
       "customer\n",
       "Amsterdam     5413\n",
       "Athens        3143\n",
       "Barcelona     4386\n",
       "Berlin        9819\n",
       "Bordeaux      1621\n",
       "Bremen        1612\n",
       "Bucharest     3352\n",
       "Budapest      2720\n",
       "Cologne       3904\n",
       "Copenhagen    4877\n",
       "Hanover       2250\n",
       "Helsinki      1588\n",
       "Lisbon        2110\n",
       "Lyon          4863\n",
       "Madrid        9231\n",
       "Malmö         2163\n",
       "Marseille     3842\n",
       "Milan         9670\n",
       "Munich        6047\n",
       "Naples        2680\n",
       "Paris         6606\n",
       "Porto         1112\n",
       "Prague        1620\n",
       "Rome          3860\n",
       "Stockholm     4926\n",
       "Turin         2143\n",
       "Valencia      1638\n",
       "Vienna        7080\n",
       "dtype: int64"
      ]
     },
     "execution_count": 110,
     "metadata": {},
     "output_type": "execute_result"
    }
   ],
   "source": [
    "occurence_customer"
   ]
  },
  {
   "cell_type": "code",
   "execution_count": null,
   "metadata": {},
   "outputs": [],
   "source": [
    "data = pd.read_csv(\"datas/orders.csv\", sep=\";\")\n"
   ]
  },
  {
   "cell_type": "code",
   "execution_count": 101,
   "metadata": {},
   "outputs": [
    {
     "data": {
      "text/html": [
       "<div>\n",
       "<style scoped>\n",
       "    .dataframe tbody tr th:only-of-type {\n",
       "        vertical-align: middle;\n",
       "    }\n",
       "\n",
       "    .dataframe tbody tr th {\n",
       "        vertical-align: top;\n",
       "    }\n",
       "\n",
       "    .dataframe thead th {\n",
       "        text-align: right;\n",
       "    }\n",
       "</style>\n",
       "<table border=\"1\" class=\"dataframe\">\n",
       "  <thead>\n",
       "    <tr style=\"text-align: right;\">\n",
       "      <th></th>\n",
       "      <th>order_id</th>\n",
       "      <th>origin_port</th>\n",
       "      <th>3pl</th>\n",
       "      <th>customs_procedures</th>\n",
       "      <th>logistic_hub</th>\n",
       "      <th>customer</th>\n",
       "      <th>product_id</th>\n",
       "      <th>units</th>\n",
       "      <th>late_order</th>\n",
       "    </tr>\n",
       "  </thead>\n",
       "  <tbody>\n",
       "    <tr>\n",
       "      <th>0</th>\n",
       "      <td>366c7a3d298f</td>\n",
       "      <td>Rotterdam</td>\n",
       "      <td>v_002</td>\n",
       "      <td>DTP</td>\n",
       "      <td>Venlo</td>\n",
       "      <td>Marseille</td>\n",
       "      <td>1692723</td>\n",
       "      <td>583</td>\n",
       "      <td>True</td>\n",
       "    </tr>\n",
       "    <tr>\n",
       "      <th>1</th>\n",
       "      <td>45f906331e10</td>\n",
       "      <td>Rotterdam</td>\n",
       "      <td>v_004</td>\n",
       "      <td>CRF</td>\n",
       "      <td>Rome</td>\n",
       "      <td>Marseille</td>\n",
       "      <td>1644308</td>\n",
       "      <td>459</td>\n",
       "      <td>False</td>\n",
       "    </tr>\n",
       "    <tr>\n",
       "      <th>2</th>\n",
       "      <td>ac84a6e4af0f</td>\n",
       "      <td>Athens</td>\n",
       "      <td>v_002</td>\n",
       "      <td>CRF</td>\n",
       "      <td>Venlo</td>\n",
       "      <td>Paris</td>\n",
       "      <td>1684170</td>\n",
       "      <td>464</td>\n",
       "      <td>True</td>\n",
       "    </tr>\n",
       "    <tr>\n",
       "      <th>3</th>\n",
       "      <td>f5e98cb29790</td>\n",
       "      <td>Rotterdam</td>\n",
       "      <td>v_004</td>\n",
       "      <td>CRF</td>\n",
       "      <td>Lille</td>\n",
       "      <td>Milan</td>\n",
       "      <td>1620510</td>\n",
       "      <td>678</td>\n",
       "      <td>False</td>\n",
       "    </tr>\n",
       "    <tr>\n",
       "      <th>4</th>\n",
       "      <td>a9e7c9bee35b</td>\n",
       "      <td>Barcelona</td>\n",
       "      <td>v_002</td>\n",
       "      <td>CRF</td>\n",
       "      <td>Venlo</td>\n",
       "      <td>Berlin</td>\n",
       "      <td>1699372</td>\n",
       "      <td>353</td>\n",
       "      <td>False</td>\n",
       "    </tr>\n",
       "    <tr>\n",
       "      <th>...</th>\n",
       "      <td>...</td>\n",
       "      <td>...</td>\n",
       "      <td>...</td>\n",
       "      <td>...</td>\n",
       "      <td>...</td>\n",
       "      <td>...</td>\n",
       "      <td>...</td>\n",
       "      <td>...</td>\n",
       "      <td>...</td>\n",
       "    </tr>\n",
       "    <tr>\n",
       "      <th>114271</th>\n",
       "      <td>3f4b15fb770e</td>\n",
       "      <td>Rotterdam</td>\n",
       "      <td>v_002</td>\n",
       "      <td>CRF</td>\n",
       "      <td>Dusseldorf</td>\n",
       "      <td>Bordeaux</td>\n",
       "      <td>1681376</td>\n",
       "      <td>645</td>\n",
       "      <td>False</td>\n",
       "    </tr>\n",
       "    <tr>\n",
       "      <th>114272</th>\n",
       "      <td>d2e6978a38fd</td>\n",
       "      <td>Barcelona</td>\n",
       "      <td>v_004</td>\n",
       "      <td>DTD</td>\n",
       "      <td>Dusseldorf</td>\n",
       "      <td>Berlin</td>\n",
       "      <td>1676942</td>\n",
       "      <td>502</td>\n",
       "      <td>False</td>\n",
       "    </tr>\n",
       "    <tr>\n",
       "      <th>114273</th>\n",
       "      <td>b88babd5c7bd</td>\n",
       "      <td>Rotterdam</td>\n",
       "      <td>v_002</td>\n",
       "      <td>DTP</td>\n",
       "      <td>Dusseldorf</td>\n",
       "      <td>Rome</td>\n",
       "      <td>1692737</td>\n",
       "      <td>464</td>\n",
       "      <td>False</td>\n",
       "    </tr>\n",
       "    <tr>\n",
       "      <th>114274</th>\n",
       "      <td>b0b5c761613f</td>\n",
       "      <td>Barcelona</td>\n",
       "      <td>v_003</td>\n",
       "      <td>DTD</td>\n",
       "      <td>Dusseldorf</td>\n",
       "      <td>Munich</td>\n",
       "      <td>1699974</td>\n",
       "      <td>388</td>\n",
       "      <td>False</td>\n",
       "    </tr>\n",
       "    <tr>\n",
       "      <th>114275</th>\n",
       "      <td>1ab8e51519e4</td>\n",
       "      <td>Rotterdam</td>\n",
       "      <td>v_002</td>\n",
       "      <td>DTD</td>\n",
       "      <td>Venlo</td>\n",
       "      <td>Bucharest</td>\n",
       "      <td>1620510</td>\n",
       "      <td>482</td>\n",
       "      <td>False</td>\n",
       "    </tr>\n",
       "  </tbody>\n",
       "</table>\n",
       "<p>114276 rows × 9 columns</p>\n",
       "</div>"
      ],
      "text/plain": [
       "            order_id origin_port    3pl customs_procedures logistic_hub  \\\n",
       "0       366c7a3d298f   Rotterdam  v_002                DTP        Venlo   \n",
       "1       45f906331e10   Rotterdam  v_004                CRF         Rome   \n",
       "2       ac84a6e4af0f      Athens  v_002                CRF        Venlo   \n",
       "3       f5e98cb29790   Rotterdam  v_004                CRF        Lille   \n",
       "4       a9e7c9bee35b   Barcelona  v_002                CRF        Venlo   \n",
       "...              ...         ...    ...                ...          ...   \n",
       "114271  3f4b15fb770e   Rotterdam  v_002                CRF   Dusseldorf   \n",
       "114272  d2e6978a38fd   Barcelona  v_004                DTD   Dusseldorf   \n",
       "114273  b88babd5c7bd   Rotterdam  v_002                DTP   Dusseldorf   \n",
       "114274  b0b5c761613f   Barcelona  v_003                DTD   Dusseldorf   \n",
       "114275  1ab8e51519e4   Rotterdam  v_002                DTD        Venlo   \n",
       "\n",
       "         customer  product_id  units  late_order  \n",
       "0       Marseille     1692723    583        True  \n",
       "1       Marseille     1644308    459       False  \n",
       "2           Paris     1684170    464        True  \n",
       "3           Milan     1620510    678       False  \n",
       "4          Berlin     1699372    353       False  \n",
       "...           ...         ...    ...         ...  \n",
       "114271   Bordeaux     1681376    645       False  \n",
       "114272     Berlin     1676942    502       False  \n",
       "114273       Rome     1692737    464       False  \n",
       "114274     Munich     1699974    388       False  \n",
       "114275  Bucharest     1620510    482       False  \n",
       "\n",
       "[114276 rows x 9 columns]"
      ]
     },
     "execution_count": 101,
     "metadata": {},
     "output_type": "execute_result"
    }
   ],
   "source": [
    "data"
   ]
  }
 ],
 "metadata": {
  "kernelspec": {
   "display_name": "Python 3.10.8 64-bit",
   "language": "python",
   "name": "python3"
  },
  "language_info": {
   "codemirror_mode": {
    "name": "ipython",
    "version": 3
   },
   "file_extension": ".py",
   "mimetype": "text/x-python",
   "name": "python",
   "nbconvert_exporter": "python",
   "pygments_lexer": "ipython3",
   "version": "3.10.8"
  },
  "orig_nbformat": 4,
  "vscode": {
   "interpreter": {
    "hash": "aee8b7b246df8f9039afb4144a1f6fd8d2ca17a180786b69acc140d282b71a49"
   }
  }
 },
 "nbformat": 4,
 "nbformat_minor": 2
}
