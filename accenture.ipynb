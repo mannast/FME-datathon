{
 "cells": [
  {
   "cell_type": "markdown",
   "metadata": {},
   "source": [
    "## Accenture - Supply Chain\n"
   ]
  },
  {
   "cell_type": "code",
   "execution_count": 28,
   "metadata": {},
   "outputs": [],
   "source": [
    "# Packaging management\n",
    "import numpy as np\n",
    "import pandas as pd\n",
    "import csv \n",
    "from sklearn.linear_model import LinearRegression as lm\n",
    "import statsmodels"
   ]
  },
  {
   "cell_type": "markdown",
   "metadata": {},
   "source": [
    "# Data Preparation"
   ]
  },
  {
   "cell_type": "code",
   "execution_count": 25,
   "metadata": {},
   "outputs": [],
   "source": [
    "## Distance matrix preparation\n",
    "\n",
    "## Read raw data from csv files\n",
    "pd_cities_raw = pd.read_csv(\"datas/cities_data.csv\" ,sep=\";\")\n",
    "\n",
    "city_list_s = pd_cities_raw['city_from_name'].unique()\n",
    "city_list_d = pd_cities_raw['city_to_name'].unique()\n",
    "all_cities= list(set(city_list_s) | set(city_list_d))\n",
    "\n",
    "city_dict = {all_cities[i]:i for i in range(0,len(all_cities))}\n",
    "n_cities = len(all_cities)\n",
    "\n",
    "distance_mat = [[0]*n_cities]*n_cities\n",
    "\n",
    "\n",
    "for index, row in pd_cities_raw.iterrows():\n",
    "    s = city_dict[row[\"city_from_name\"]]\n",
    "    d = city_dict[row[\"city_to_name\"]]\n",
    "    distance = row[\"distance\"]\n",
    "    distance_mat[s][d] = distance"
   ]
  },
  {
   "cell_type": "code",
   "execution_count": 26,
   "metadata": {},
   "outputs": [],
   "source": [
    "## Product Matrix\n",
    "\n",
    "pd_products_raw = pd.read_csv(\"datas/product_attributes.csv\", sep=\",\")\n",
    "\n",
    "##dataframe quering example  !(return a string value)\n",
    "# pd_products_raw.loc[pd_products_raw[\"product_id\"]==1672707][\"material_handling\"].to_string(index=False)\n"
   ]
  },
  {
   "cell_type": "code",
   "execution_count": 21,
   "metadata": {},
   "outputs": [
    {
     "ename": "KeyError",
     "evalue": "'customs_procedures'",
     "output_type": "error",
     "traceback": [
      "\u001b[0;31m---------------------------------------------------------------------------\u001b[0m",
      "\u001b[0;31mKeyError\u001b[0m                                  Traceback (most recent call last)",
      "File \u001b[0;32m/usr/local/lib/python3.10/site-packages/pandas/core/indexes/base.py:3803\u001b[0m, in \u001b[0;36mIndex.get_loc\u001b[0;34m(self, key, method, tolerance)\u001b[0m\n\u001b[1;32m   3802\u001b[0m \u001b[39mtry\u001b[39;00m:\n\u001b[0;32m-> 3803\u001b[0m     \u001b[39mreturn\u001b[39;00m \u001b[39mself\u001b[39;49m\u001b[39m.\u001b[39;49m_engine\u001b[39m.\u001b[39;49mget_loc(casted_key)\n\u001b[1;32m   3804\u001b[0m \u001b[39mexcept\u001b[39;00m \u001b[39mKeyError\u001b[39;00m \u001b[39mas\u001b[39;00m err:\n",
      "File \u001b[0;32m/usr/local/lib/python3.10/site-packages/pandas/_libs/index.pyx:138\u001b[0m, in \u001b[0;36mpandas._libs.index.IndexEngine.get_loc\u001b[0;34m()\u001b[0m\n",
      "File \u001b[0;32m/usr/local/lib/python3.10/site-packages/pandas/_libs/index.pyx:165\u001b[0m, in \u001b[0;36mpandas._libs.index.IndexEngine.get_loc\u001b[0;34m()\u001b[0m\n",
      "File \u001b[0;32mpandas/_libs/hashtable_class_helper.pxi:5745\u001b[0m, in \u001b[0;36mpandas._libs.hashtable.PyObjectHashTable.get_item\u001b[0;34m()\u001b[0m\n",
      "File \u001b[0;32mpandas/_libs/hashtable_class_helper.pxi:5753\u001b[0m, in \u001b[0;36mpandas._libs.hashtable.PyObjectHashTable.get_item\u001b[0;34m()\u001b[0m\n",
      "\u001b[0;31mKeyError\u001b[0m: 'customs_procedures'",
      "\nThe above exception was the direct cause of the following exception:\n",
      "\u001b[0;31mKeyError\u001b[0m                                  Traceback (most recent call last)",
      "Cell \u001b[0;32mIn [21], line 2\u001b[0m\n\u001b[1;32m      1\u001b[0m \u001b[39m#Needs Revision\u001b[39;00m\n\u001b[0;32m----> 2\u001b[0m pd_cities_raw[\u001b[39m'\u001b[39;49m\u001b[39mcustoms_procedures\u001b[39;49m\u001b[39m'\u001b[39;49m]\n",
      "File \u001b[0;32m/usr/local/lib/python3.10/site-packages/pandas/core/frame.py:3804\u001b[0m, in \u001b[0;36mDataFrame.__getitem__\u001b[0;34m(self, key)\u001b[0m\n\u001b[1;32m   3802\u001b[0m \u001b[39mif\u001b[39;00m \u001b[39mself\u001b[39m\u001b[39m.\u001b[39mcolumns\u001b[39m.\u001b[39mnlevels \u001b[39m>\u001b[39m \u001b[39m1\u001b[39m:\n\u001b[1;32m   3803\u001b[0m     \u001b[39mreturn\u001b[39;00m \u001b[39mself\u001b[39m\u001b[39m.\u001b[39m_getitem_multilevel(key)\n\u001b[0;32m-> 3804\u001b[0m indexer \u001b[39m=\u001b[39m \u001b[39mself\u001b[39;49m\u001b[39m.\u001b[39;49mcolumns\u001b[39m.\u001b[39;49mget_loc(key)\n\u001b[1;32m   3805\u001b[0m \u001b[39mif\u001b[39;00m is_integer(indexer):\n\u001b[1;32m   3806\u001b[0m     indexer \u001b[39m=\u001b[39m [indexer]\n",
      "File \u001b[0;32m/usr/local/lib/python3.10/site-packages/pandas/core/indexes/base.py:3805\u001b[0m, in \u001b[0;36mIndex.get_loc\u001b[0;34m(self, key, method, tolerance)\u001b[0m\n\u001b[1;32m   3803\u001b[0m     \u001b[39mreturn\u001b[39;00m \u001b[39mself\u001b[39m\u001b[39m.\u001b[39m_engine\u001b[39m.\u001b[39mget_loc(casted_key)\n\u001b[1;32m   3804\u001b[0m \u001b[39mexcept\u001b[39;00m \u001b[39mKeyError\u001b[39;00m \u001b[39mas\u001b[39;00m err:\n\u001b[0;32m-> 3805\u001b[0m     \u001b[39mraise\u001b[39;00m \u001b[39mKeyError\u001b[39;00m(key) \u001b[39mfrom\u001b[39;00m \u001b[39merr\u001b[39;00m\n\u001b[1;32m   3806\u001b[0m \u001b[39mexcept\u001b[39;00m \u001b[39mTypeError\u001b[39;00m:\n\u001b[1;32m   3807\u001b[0m     \u001b[39m# If we have a listlike key, _check_indexing_error will raise\u001b[39;00m\n\u001b[1;32m   3808\u001b[0m     \u001b[39m#  InvalidIndexError. Otherwise we fall through and re-raise\u001b[39;00m\n\u001b[1;32m   3809\u001b[0m     \u001b[39m#  the TypeError.\u001b[39;00m\n\u001b[1;32m   3810\u001b[0m     \u001b[39mself\u001b[39m\u001b[39m.\u001b[39m_check_indexing_error(key)\n",
      "\u001b[0;31mKeyError\u001b[0m: 'customs_procedures'"
     ]
    }
   ],
   "source": [
    "#Needs Revision\n",
    "customs_procedure =pd_cities_raw['customs_procedures']\n",
    "print(customs_procedure)\n",
    "\n"
   ]
  },
  {
   "cell_type": "code",
   "execution_count": 14,
   "metadata": {},
   "outputs": [],
   "source": [
    "## Probability dictionary calculation\n",
    "pd_orders_raw=pd.read_csv(\"datas/orders.csv\",sep=\";\")\n",
    "\n",
    "pd_orders_raw.loc[pd_orders_raw[\"origin_port\"] == \"BCN\", \"origin_port\"] = \"Barcelona\"\n",
    "pd_orders_raw.loc[pd_orders_raw[\"origin_port\"] == \"ATHENAS\", \"origin_port\"] = \"Athens\"\n",
    "\n",
    "\n",
    "cities_origin = pd_orders_raw['origin_port'].unique()\n",
    "cities_hub = pd_orders_raw['logistic_hub'].unique()\n",
    "cities_customer =  pd_orders_raw['customer'].unique()\n",
    "pd_origin_count = pd_orders_raw.groupby(['origin_port', 'late_order']).size()\n",
    "pd_hub_count = pd_orders_raw.groupby(['logistic_hub', 'late_order']).size()\n",
    "pd_customer_count = pd_orders_raw.groupby(['customer', 'late_order']).size()\n",
    "\n",
    "city_count_origin =  pd_orders_raw.groupby(['origin_port']).size()\n",
    "city_count_hub = pd_orders_raw.groupby(['logistic_hub']).size()\n",
    "city_count_customer = pd_orders_raw.groupby(['customer']).size()\n",
    "\n",
    "delay_rate_origin = {all_cities[i]:0 for i in range(0,len(all_cities))}\n",
    "delay_rate_hub = {all_cities[i]:0 for i in range(0,len(all_cities))}\n",
    "delay_rate_customer = {all_cities[i]:0 for i in range(0,len(all_cities))}\n",
    "\n",
    "\n",
    "origin_count_dict =  pd_orders_raw.groupby(['origin_port','late_order']).size().to_dict()\n",
    "hub_count_dict =  pd_orders_raw.groupby(['logistic_hub','late_order']).size().to_dict()\n",
    "customer_count_dict =  pd_orders_raw.groupby(['customer','late_order']).size().to_dict()"
   ]
  },
  {
   "cell_type": "code",
   "execution_count": 23,
   "metadata": {},
   "outputs": [
    {
     "name": "stdout",
     "output_type": "stream",
     "text": [
      "origin city\n",
      "{'Barcelona': 0.2702263870848024, 'Turin': 0.19692020531964535, 'Vienna': 0.20310734463276836, 'Zaragoza': 0.3497337053005326, 'Berlin': 0.19584479071188513, 'Cologne': 0.1831454918032787, 'Marseille': 0.32769390942217597, 'Bremen': 0.1761786600496278, 'Helsinki': 0.3217884130982368, 'Rotterdam': 0.16921047383841328, 'Amsterdam': 0.19564012562349897, 'Lyon': 0.3249023236685174, 'Copenhagen': 0.2667623539060898, 'Rome': 0.22538860103626943, 'Porto': 0.31744604316546765, 'Dusseldorf': 0.18381530595941845, 'Paris': 0.30714501967907964, 'Prague': 0.20864197530864198, 'Hanover': 0.18755555555555556, 'Bratislava': 0.3308839902026275, 'Hamburg': 0.20204841713221602, 'Munich': 0.1941458574499752, 'Budapest': 0.2088235294117647, 'Bordeaux': 0.3195558297347316, 'Warsaw': 0.22755173068404733, 'Athens': 0.3741508954193759, 'Venlo': 0.18738396624472572, 'Stockholm': 0.28258221680876977, 'Valencia': 0.23809523809523808, 'Lille': 0.3595823575331772, 'Milan': 0.20382626680455015, 'Madrid': 0.24071064890044416, 'Lisbon': 0.32701421800947866, 'Bucharest': 0.2276252983293556, 'Naples': 0.21529850746268656, 'Liege': 0.22171945701357465, 'Malmö': 0.2598243180767453}\n",
      "hub city\n",
      "{'Barcelona': 0, 'Turin': 0, 'Vienna': 0, 'Zaragoza': 0.3497337053005326, 'Berlin': 0, 'Cologne': 0, 'Marseille': 0, 'Bremen': 0, 'Helsinki': 0, 'Rotterdam': 0, 'Amsterdam': 0, 'Lyon': 0, 'Copenhagen': 0, 'Rome': 0.2575441412520064, 'Porto': 0, 'Dusseldorf': 0.18381530595941845, 'Paris': 0, 'Prague': 0, 'Hanover': 0, 'Bratislava': 0.3308839902026275, 'Hamburg': 0.20204841713221602, 'Munich': 0, 'Budapest': 0, 'Bordeaux': 0, 'Warsaw': 0.22755173068404733, 'Athens': 0, 'Venlo': 0.18738396624472572, 'Stockholm': 0, 'Valencia': 0, 'Lille': 0.3595823575331772, 'Milan': 0, 'Madrid': 0, 'Lisbon': 0, 'Bucharest': 0, 'Naples': 0, 'Liege': 0.22171945701357465, 'Malmö': 0}\n",
      "destination city\n",
      "{'Barcelona': 0.22594619243046055, 'Turin': 0.19692020531964535, 'Vienna': 0.20310734463276836, 'Zaragoza': 0, 'Berlin': 0.19584479071188513, 'Cologne': 0.1831454918032787, 'Marseille': 0.32769390942217597, 'Bremen': 0.1761786600496278, 'Helsinki': 0.3217884130982368, 'Rotterdam': 0, 'Amsterdam': 0.19564012562349897, 'Lyon': 0.3249023236685174, 'Copenhagen': 0.2667623539060898, 'Rome': 0.22538860103626943, 'Porto': 0.31744604316546765, 'Dusseldorf': 0, 'Paris': 0.30714501967907964, 'Prague': 0.20864197530864198, 'Hanover': 0.18755555555555556, 'Bratislava': 0, 'Hamburg': 0, 'Munich': 0.1941458574499752, 'Budapest': 0.2088235294117647, 'Bordeaux': 0.3195558297347316, 'Warsaw': 0, 'Athens': 0.2653515749284123, 'Venlo': 0, 'Stockholm': 0.28258221680876977, 'Valencia': 0.23809523809523808, 'Lille': 0, 'Milan': 0.20382626680455015, 'Madrid': 0.24071064890044416, 'Lisbon': 0.32701421800947866, 'Bucharest': 0.2276252983293556, 'Naples': 0.21529850746268656, 'Liege': 0, 'Malmö': 0.2598243180767453}\n"
     ]
    }
   ],
   "source": [
    "for key, values in origin_count_dict:\n",
    "    total = city_count_origin[key]\n",
    "    if (values == True):\n",
    "        true_count_origin = origin_count_dict[key,values]\n",
    "        delay_rate_origin[key] = true_count_origin/total\n",
    "print(\"origin city\")\n",
    "print(delay_rate_origin)\n",
    "for key, values in hub_count_dict:\n",
    "    total = city_count_hub[key]\n",
    "    if (values == True):\n",
    "        true_count_origin = hub_count_dict[key,values]\n",
    "        delay_rate_hub[key] = true_count_origin/total\n",
    "print(\"hub city\")\n",
    "print(delay_rate_hub)\n",
    "for key, values in customer_count_dict:\n",
    "    total = city_count_customer[key]\n",
    "    if (values == True):\n",
    "        true_count_origin = customer_count_dict[key,values]\n",
    "        delay_rate_customer[key] = true_count_origin/total\n",
    "print(\"destination city\")\n",
    "print(delay_rate_customer)"
   ]
  },
  {
   "cell_type": "code",
   "execution_count": 32,
   "metadata": {},
   "outputs": [],
   "source": [
    "threepl_list = pd_orders_raw['3pl'].unique()\n",
    "procedures = pd_orders_raw['customs_procedures'].unique()\n",
    "\n",
    "n3pl = len(threepl_list)\n",
    "nprocedures= len(procedures)\n",
    "\n",
    "dict_3pl = {threepl_list[i]:i for i in range(0,len(threepl_list))}\n",
    "dict_procedures = {procedures[i]:i for i in range(0,len(procedures))}\n",
    "\n",
    "pd_orders_raw['3pl'] = pd_orders_raw['3pl'].factorize()[0]\n",
    "pd_orders_raw['customs_procedures'] = pd_orders_raw['customs_procedures'].factorize()[0]\n",
    "\n"
   ]
  },
  {
   "cell_type": "code",
   "execution_count": 35,
   "metadata": {},
   "outputs": [
    {
     "data": {
      "text/plain": [
       "3"
      ]
     },
     "execution_count": 35,
     "metadata": {},
     "output_type": "execute_result"
    }
   ],
   "source": []
  },
  {
   "cell_type": "markdown",
   "metadata": {},
   "source": [
    "# Data Test"
   ]
  },
  {
   "cell_type": "code",
   "execution_count": null,
   "metadata": {},
   "outputs": [],
   "source": [
    "# Correlation map\n",
    "\n",
    "# 1: convert dictionaries into dataframe\n",
    "\n",
    "jet= plt.get_cmap('jet')\n",
    "colors = iter(jet(np.linspace(0,1,10)))\n",
    "\n",
    "def correlation(df, variables, n_rows, n_cols):\n",
    "    fig = plt.figure(figsize=(15,10))\n",
    "    for i, var in enumerate(variables):\n",
    "        ax = fig.add_subplot(n_rows,n_cols,i+1)\n",
    "        asset = df.loc[:,var]\n",
    "        sns.scatterplot(df[\"price\"], asset, c = next(colors))\n",
    "        ax.set_xlabel(\"price\")\n",
    "        ax.set_ylabel(\"{}\".format(var))\n",
    "        ax.set_title(var +\" vs price\")\n",
    "        plt.xticks(rotation=30)\n",
    "    fig.tight_layout()\n",
    "    plt.show()"
   ]
  },
  {
   "cell_type": "markdown",
   "metadata": {},
   "source": [
    "# Data Training"
   ]
  }
 ],
 "metadata": {
  "kernelspec": {
   "display_name": "Python 3.10.8 64-bit",
   "language": "python",
   "name": "python3"
  },
  "language_info": {
   "codemirror_mode": {
    "name": "ipython",
    "version": 3
   },
   "file_extension": ".py",
   "mimetype": "text/x-python",
   "name": "python",
   "nbconvert_exporter": "python",
   "pygments_lexer": "ipython3",
   "version": "3.10.8"
  },
  "orig_nbformat": 4,
  "vscode": {
   "interpreter": {
    "hash": "aee8b7b246df8f9039afb4144a1f6fd8d2ca17a180786b69acc140d282b71a49"
   }
  }
 },
 "nbformat": 4,
 "nbformat_minor": 2
}
