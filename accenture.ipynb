{
 "cells": [
  {
   "cell_type": "markdown",
   "metadata": {},
   "source": [
    "## Accenture - Supply Chain\n"
   ]
  },
  {
   "cell_type": "code",
   "execution_count": 73,
   "metadata": {},
   "outputs": [],
   "source": [
    "# Packaging management\n",
    "import numpy as np\n",
    "import pandas as pd\n",
    "import csv \n",
    "from sklearn.linear_model import LinearRegression as lm\n",
    "import statsmodels"
   ]
  },
  {
   "cell_type": "code",
   "execution_count": 72,
   "metadata": {},
   "outputs": [
    {
     "name": "stderr",
     "output_type": "stream",
     "text": [
      "/var/folders/n5/ktlz2xtn5vs65v3vw81n10k80000gn/T/ipykernel_59342/24850140.py:3: FutureWarning: The squeeze argument has been deprecated and will be removed in a future version. Append .squeeze(\"columns\") to the call to squeeze.\n",
      "\n",
      "\n",
      "  pd.read_csv(\"datas/orders.csv\", index_col=0, header=None, squeeze=True).to_dict()\n"
     ]
    },
    {
     "ename": "KeyError",
     "evalue": "'late_order'",
     "output_type": "error",
     "traceback": [
      "\u001b[0;31m---------------------------------------------------------------------------\u001b[0m",
      "\u001b[0;31mKeyError\u001b[0m                                  Traceback (most recent call last)",
      "File \u001b[0;32m/usr/local/lib/python3.10/site-packages/pandas/core/indexes/base.py:3803\u001b[0m, in \u001b[0;36mIndex.get_loc\u001b[0;34m(self, key, method, tolerance)\u001b[0m\n\u001b[1;32m   3802\u001b[0m \u001b[39mtry\u001b[39;00m:\n\u001b[0;32m-> 3803\u001b[0m     \u001b[39mreturn\u001b[39;00m \u001b[39mself\u001b[39;49m\u001b[39m.\u001b[39;49m_engine\u001b[39m.\u001b[39;49mget_loc(casted_key)\n\u001b[1;32m   3804\u001b[0m \u001b[39mexcept\u001b[39;00m \u001b[39mKeyError\u001b[39;00m \u001b[39mas\u001b[39;00m err:\n",
      "File \u001b[0;32m/usr/local/lib/python3.10/site-packages/pandas/_libs/index.pyx:138\u001b[0m, in \u001b[0;36mpandas._libs.index.IndexEngine.get_loc\u001b[0;34m()\u001b[0m\n",
      "File \u001b[0;32m/usr/local/lib/python3.10/site-packages/pandas/_libs/index.pyx:165\u001b[0m, in \u001b[0;36mpandas._libs.index.IndexEngine.get_loc\u001b[0;34m()\u001b[0m\n",
      "File \u001b[0;32mpandas/_libs/hashtable_class_helper.pxi:5745\u001b[0m, in \u001b[0;36mpandas._libs.hashtable.PyObjectHashTable.get_item\u001b[0;34m()\u001b[0m\n",
      "File \u001b[0;32mpandas/_libs/hashtable_class_helper.pxi:5753\u001b[0m, in \u001b[0;36mpandas._libs.hashtable.PyObjectHashTable.get_item\u001b[0;34m()\u001b[0m\n",
      "\u001b[0;31mKeyError\u001b[0m: 'late_order'",
      "\nThe above exception was the direct cause of the following exception:\n",
      "\u001b[0;31mKeyError\u001b[0m                                  Traceback (most recent call last)",
      "Cell \u001b[0;32mIn [72], line 8\u001b[0m\n\u001b[1;32m      5\u001b[0m \u001b[39m#Final\u001b[39;00m\n\u001b[1;32m      6\u001b[0m pd_cities_raw \u001b[39m=\u001b[39m pd\u001b[39m.\u001b[39mread_csv(\u001b[39m\"\u001b[39m\u001b[39mdatas/cities_data.csv\u001b[39m\u001b[39m\"\u001b[39m ,sep\u001b[39m=\u001b[39m\u001b[39m\"\u001b[39m\u001b[39m;\u001b[39m\u001b[39m\"\u001b[39m)\n\u001b[0;32m----> 8\u001b[0m city_list_l \u001b[39m=\u001b[39m pd_cities_raw[\u001b[39m'\u001b[39;49m\u001b[39mlate_order\u001b[39;49m\u001b[39m'\u001b[39;49m]\n\u001b[1;32m      9\u001b[0m city_list_f \u001b[39m=\u001b[39m pd_cities_raw[\u001b[39m'\u001b[39m\u001b[39mcity_to_name\u001b[39m\u001b[39m'\u001b[39m]\n\u001b[1;32m     10\u001b[0m cities_f \u001b[39m=\u001b[39m pd_cities_raw[\u001b[39m'\u001b[39m\u001b[39mcity_to_name\u001b[39m\u001b[39m'\u001b[39m]\u001b[39m.\u001b[39munique()\n",
      "File \u001b[0;32m/usr/local/lib/python3.10/site-packages/pandas/core/frame.py:3804\u001b[0m, in \u001b[0;36mDataFrame.__getitem__\u001b[0;34m(self, key)\u001b[0m\n\u001b[1;32m   3802\u001b[0m \u001b[39mif\u001b[39;00m \u001b[39mself\u001b[39m\u001b[39m.\u001b[39mcolumns\u001b[39m.\u001b[39mnlevels \u001b[39m>\u001b[39m \u001b[39m1\u001b[39m:\n\u001b[1;32m   3803\u001b[0m     \u001b[39mreturn\u001b[39;00m \u001b[39mself\u001b[39m\u001b[39m.\u001b[39m_getitem_multilevel(key)\n\u001b[0;32m-> 3804\u001b[0m indexer \u001b[39m=\u001b[39m \u001b[39mself\u001b[39;49m\u001b[39m.\u001b[39;49mcolumns\u001b[39m.\u001b[39;49mget_loc(key)\n\u001b[1;32m   3805\u001b[0m \u001b[39mif\u001b[39;00m is_integer(indexer):\n\u001b[1;32m   3806\u001b[0m     indexer \u001b[39m=\u001b[39m [indexer]\n",
      "File \u001b[0;32m/usr/local/lib/python3.10/site-packages/pandas/core/indexes/base.py:3805\u001b[0m, in \u001b[0;36mIndex.get_loc\u001b[0;34m(self, key, method, tolerance)\u001b[0m\n\u001b[1;32m   3803\u001b[0m     \u001b[39mreturn\u001b[39;00m \u001b[39mself\u001b[39m\u001b[39m.\u001b[39m_engine\u001b[39m.\u001b[39mget_loc(casted_key)\n\u001b[1;32m   3804\u001b[0m \u001b[39mexcept\u001b[39;00m \u001b[39mKeyError\u001b[39;00m \u001b[39mas\u001b[39;00m err:\n\u001b[0;32m-> 3805\u001b[0m     \u001b[39mraise\u001b[39;00m \u001b[39mKeyError\u001b[39;00m(key) \u001b[39mfrom\u001b[39;00m \u001b[39merr\u001b[39;00m\n\u001b[1;32m   3806\u001b[0m \u001b[39mexcept\u001b[39;00m \u001b[39mTypeError\u001b[39;00m:\n\u001b[1;32m   3807\u001b[0m     \u001b[39m# If we have a listlike key, _check_indexing_error will raise\u001b[39;00m\n\u001b[1;32m   3808\u001b[0m     \u001b[39m#  InvalidIndexError. Otherwise we fall through and re-raise\u001b[39;00m\n\u001b[1;32m   3809\u001b[0m     \u001b[39m#  the TypeError.\u001b[39;00m\n\u001b[1;32m   3810\u001b[0m     \u001b[39mself\u001b[39m\u001b[39m.\u001b[39m_check_indexing_error(key)\n",
      "\u001b[0;31mKeyError\u001b[0m: 'late_order'"
     ]
    }
   ],
   "source": [
    "## Probability\n",
    "#Original\n",
    "pd.read_csv(\"datas/orders.csv\", index_col=1, header=None, squeeze=True).to_dict()\n",
    "#Final\n",
    "pd_cities_raw = pd.read_csv(\"datas/cities_data.csv\" ,sep=\";\")\n",
    "\n",
    "city_list_l = pd_cities_raw['late_order']\n",
    "city_list_f = pd_cities_raw['city_to_name']\n",
    "cities_f = pd_cities_raw['city_to_name'].unique()\n",
    "final_order = list(set(city_list_f) | set(city_list_l))\n",
    "\n"
   ]
  },
  {
   "cell_type": "code",
   "execution_count": null,
   "metadata": {},
   "outputs": [],
   "source": []
  },
  {
   "cell_type": "code",
   "execution_count": 82,
   "metadata": {},
   "outputs": [],
   "source": [
    "## Distance matrix preparation\n",
    "\n",
    "## Read raw data from csv files\n",
    "pd_cities_raw = pd.read_csv(\"datas/cities_data.csv\" ,sep=\";\")\n",
    "\n",
    "city_list_s = pd_cities_raw['city_from_name'].unique()\n",
    "city_list_d = pd_cities_raw['city_to_name'].unique()\n",
    "all_cities= list(set(city_list_s) | set(city_list_d))\n",
    "\n",
    "city_dict = {all_cities[i]:i for i in range(0,len(all_cities))}\n",
    "n_cities = len(all_cities)\n",
    "\n",
    "distance_mat = [[0]*n_cities]*n_cities\n",
    "\n",
    "\n",
    "for index, row in pd_cities_raw.iterrows():\n",
    "    s = city_dict[row[\"city_from_name\"]]\n",
    "    d = city_dict[row[\"city_to_name\"]]\n",
    "    distance = row[\"distance\"]\n",
    "    distance_mat[s][d] = distance"
   ]
  },
  {
   "cell_type": "code",
   "execution_count": 65,
   "metadata": {},
   "outputs": [
    {
     "data": {
      "text/plain": [
       "3"
      ]
     },
     "execution_count": 65,
     "metadata": {},
     "output_type": "execute_result"
    }
   ],
   "source": [
    "## Product Matrix\n",
    "\n",
    "pd_products_raw = pd.read_csv(\"datas/product_attributes.csv\", sep=\",\")\n",
    "\n",
    "##dataframe quering example  !(return a string value)\n",
    "# pd_products_raw.loc[pd_products_raw[\"product_id\"]==1672707][\"material_handling\"].to_string(index=False)\n"
   ]
  },
  {
   "cell_type": "code",
   "execution_count": 83,
   "metadata": {},
   "outputs": [],
   "source": [
    "pd_orders_raw=pd.read_csv(\"datas/orders.csv\",sep=\";\")\n",
    "\n",
    "\n",
    "pd_orders_raw.value_counts().reset_index(name=\"delays\")\n",
    "\n",
    "delay_rate_origin = {all_cities[i]:0 for i in range(0,len(all_cities))}"
   ]
  },
  {
   "cell_type": "code",
   "execution_count": 84,
   "metadata": {},
   "outputs": [
    {
     "data": {
      "text/plain": [
       "{'Helsinki': 0,\n",
       " 'Warsaw': 0,\n",
       " 'Marseille': 0,\n",
       " 'Malmö': 0,\n",
       " 'Valencia': 0,\n",
       " 'Copenhagen': 0,\n",
       " 'Berlin': 0,\n",
       " 'Bremen': 0,\n",
       " 'Bucharest': 0,\n",
       " 'Rotterdam': 0,\n",
       " 'Hanover': 0,\n",
       " 'Bordeaux': 0,\n",
       " 'Lisbon': 0,\n",
       " 'Hamburg': 0,\n",
       " 'Budapest': 0,\n",
       " 'Rome': 0,\n",
       " 'Paris': 0,\n",
       " 'Amsterdam': 0,\n",
       " 'Zaragoza': 0,\n",
       " 'Cologne': 0,\n",
       " 'Munich': 0,\n",
       " 'Prague': 0,\n",
       " 'Athens': 0,\n",
       " 'Liege': 0,\n",
       " 'Milan': 0,\n",
       " 'Madrid': 0,\n",
       " 'Porto': 0,\n",
       " 'Vienna': 0,\n",
       " 'Barcelona': 0,\n",
       " 'Turin': 0,\n",
       " 'Bratislava': 0,\n",
       " 'Lille': 0,\n",
       " 'Stockholm': 0,\n",
       " 'Lyon': 0,\n",
       " 'Naples': 0,\n",
       " 'Venlo': 0,\n",
       " 'Dusseldorf': 0}"
      ]
     },
     "execution_count": 84,
     "metadata": {},
     "output_type": "execute_result"
    }
   ],
   "source": [
    "delay_rate_origin"
   ]
  },
  {
   "cell_type": "code",
   "execution_count": 79,
   "metadata": {},
   "outputs": [
    {
     "data": {
      "text/html": [
       "<div>\n",
       "<style scoped>\n",
       "    .dataframe tbody tr th:only-of-type {\n",
       "        vertical-align: middle;\n",
       "    }\n",
       "\n",
       "    .dataframe tbody tr th {\n",
       "        vertical-align: top;\n",
       "    }\n",
       "\n",
       "    .dataframe thead th {\n",
       "        text-align: right;\n",
       "    }\n",
       "</style>\n",
       "<table border=\"1\" class=\"dataframe\">\n",
       "  <thead>\n",
       "    <tr style=\"text-align: right;\">\n",
       "      <th></th>\n",
       "      <th>order_id</th>\n",
       "      <th>origin_port</th>\n",
       "      <th>customs_procedures</th>\n",
       "      <th>logistic_hub</th>\n",
       "      <th>customer</th>\n",
       "      <th>product_id</th>\n",
       "      <th>units</th>\n",
       "      <th>late_order</th>\n",
       "    </tr>\n",
       "  </thead>\n",
       "  <tbody>\n",
       "    <tr>\n",
       "      <th>0</th>\n",
       "      <td>366c7a3d298f</td>\n",
       "      <td>Rotterdam</td>\n",
       "      <td>DTP</td>\n",
       "      <td>Venlo</td>\n",
       "      <td>Marseille</td>\n",
       "      <td>1692723</td>\n",
       "      <td>583</td>\n",
       "      <td>True</td>\n",
       "    </tr>\n",
       "    <tr>\n",
       "      <th>1</th>\n",
       "      <td>45f906331e10</td>\n",
       "      <td>Rotterdam</td>\n",
       "      <td>CRF</td>\n",
       "      <td>Rome</td>\n",
       "      <td>Marseille</td>\n",
       "      <td>1644308</td>\n",
       "      <td>459</td>\n",
       "      <td>False</td>\n",
       "    </tr>\n",
       "    <tr>\n",
       "      <th>2</th>\n",
       "      <td>ac84a6e4af0f</td>\n",
       "      <td>Athens</td>\n",
       "      <td>CRF</td>\n",
       "      <td>Venlo</td>\n",
       "      <td>Paris</td>\n",
       "      <td>1684170</td>\n",
       "      <td>464</td>\n",
       "      <td>True</td>\n",
       "    </tr>\n",
       "    <tr>\n",
       "      <th>3</th>\n",
       "      <td>f5e98cb29790</td>\n",
       "      <td>Rotterdam</td>\n",
       "      <td>CRF</td>\n",
       "      <td>Lille</td>\n",
       "      <td>Milan</td>\n",
       "      <td>1620510</td>\n",
       "      <td>678</td>\n",
       "      <td>False</td>\n",
       "    </tr>\n",
       "    <tr>\n",
       "      <th>4</th>\n",
       "      <td>a9e7c9bee35b</td>\n",
       "      <td>Barcelona</td>\n",
       "      <td>CRF</td>\n",
       "      <td>Venlo</td>\n",
       "      <td>Berlin</td>\n",
       "      <td>1699372</td>\n",
       "      <td>353</td>\n",
       "      <td>False</td>\n",
       "    </tr>\n",
       "    <tr>\n",
       "      <th>...</th>\n",
       "      <td>...</td>\n",
       "      <td>...</td>\n",
       "      <td>...</td>\n",
       "      <td>...</td>\n",
       "      <td>...</td>\n",
       "      <td>...</td>\n",
       "      <td>...</td>\n",
       "      <td>...</td>\n",
       "    </tr>\n",
       "    <tr>\n",
       "      <th>114271</th>\n",
       "      <td>3f4b15fb770e</td>\n",
       "      <td>Rotterdam</td>\n",
       "      <td>CRF</td>\n",
       "      <td>Dusseldorf</td>\n",
       "      <td>Bordeaux</td>\n",
       "      <td>1681376</td>\n",
       "      <td>645</td>\n",
       "      <td>False</td>\n",
       "    </tr>\n",
       "    <tr>\n",
       "      <th>114272</th>\n",
       "      <td>d2e6978a38fd</td>\n",
       "      <td>Barcelona</td>\n",
       "      <td>DTD</td>\n",
       "      <td>Dusseldorf</td>\n",
       "      <td>Berlin</td>\n",
       "      <td>1676942</td>\n",
       "      <td>502</td>\n",
       "      <td>False</td>\n",
       "    </tr>\n",
       "    <tr>\n",
       "      <th>114273</th>\n",
       "      <td>b88babd5c7bd</td>\n",
       "      <td>Rotterdam</td>\n",
       "      <td>DTP</td>\n",
       "      <td>Dusseldorf</td>\n",
       "      <td>Rome</td>\n",
       "      <td>1692737</td>\n",
       "      <td>464</td>\n",
       "      <td>False</td>\n",
       "    </tr>\n",
       "    <tr>\n",
       "      <th>114274</th>\n",
       "      <td>b0b5c761613f</td>\n",
       "      <td>Barcelona</td>\n",
       "      <td>DTD</td>\n",
       "      <td>Dusseldorf</td>\n",
       "      <td>Munich</td>\n",
       "      <td>1699974</td>\n",
       "      <td>388</td>\n",
       "      <td>False</td>\n",
       "    </tr>\n",
       "    <tr>\n",
       "      <th>114275</th>\n",
       "      <td>1ab8e51519e4</td>\n",
       "      <td>Rotterdam</td>\n",
       "      <td>DTD</td>\n",
       "      <td>Venlo</td>\n",
       "      <td>Bucharest</td>\n",
       "      <td>1620510</td>\n",
       "      <td>482</td>\n",
       "      <td>False</td>\n",
       "    </tr>\n",
       "  </tbody>\n",
       "</table>\n",
       "<p>114276 rows × 8 columns</p>\n",
       "</div>"
      ],
      "text/plain": [
       "            order_id origin_port customs_procedures logistic_hub   customer  \\\n",
       "0       366c7a3d298f   Rotterdam                DTP        Venlo  Marseille   \n",
       "1       45f906331e10   Rotterdam                CRF         Rome  Marseille   \n",
       "2       ac84a6e4af0f      Athens                CRF        Venlo      Paris   \n",
       "3       f5e98cb29790   Rotterdam                CRF        Lille      Milan   \n",
       "4       a9e7c9bee35b   Barcelona                CRF        Venlo     Berlin   \n",
       "...              ...         ...                ...          ...        ...   \n",
       "114271  3f4b15fb770e   Rotterdam                CRF   Dusseldorf   Bordeaux   \n",
       "114272  d2e6978a38fd   Barcelona                DTD   Dusseldorf     Berlin   \n",
       "114273  b88babd5c7bd   Rotterdam                DTP   Dusseldorf       Rome   \n",
       "114274  b0b5c761613f   Barcelona                DTD   Dusseldorf     Munich   \n",
       "114275  1ab8e51519e4   Rotterdam                DTD        Venlo  Bucharest   \n",
       "\n",
       "        product_id  units  late_order  \n",
       "0          1692723    583        True  \n",
       "1          1644308    459       False  \n",
       "2          1684170    464        True  \n",
       "3          1620510    678       False  \n",
       "4          1699372    353       False  \n",
       "...            ...    ...         ...  \n",
       "114271     1681376    645       False  \n",
       "114272     1676942    502       False  \n",
       "114273     1692737    464       False  \n",
       "114274     1699974    388       False  \n",
       "114275     1620510    482       False  \n",
       "\n",
       "[114276 rows x 8 columns]"
      ]
     },
     "execution_count": 79,
     "metadata": {},
     "output_type": "execute_result"
    }
   ],
   "source": [
    "data"
   ]
  }
 ],
 "metadata": {
  "kernelspec": {
   "display_name": "Python 3.10.8 64-bit",
   "language": "python",
   "name": "python3"
  },
  "language_info": {
   "codemirror_mode": {
    "name": "ipython",
    "version": 3
   },
   "file_extension": ".py",
   "mimetype": "text/x-python",
   "name": "python",
   "nbconvert_exporter": "python",
   "pygments_lexer": "ipython3",
   "version": "3.10.8"
  },
  "orig_nbformat": 4,
  "vscode": {
   "interpreter": {
    "hash": "aee8b7b246df8f9039afb4144a1f6fd8d2ca17a180786b69acc140d282b71a49"
   }
  }
 },
 "nbformat": 4,
 "nbformat_minor": 2
}
